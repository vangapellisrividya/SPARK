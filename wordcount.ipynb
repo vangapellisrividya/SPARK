{
 "cells": [
  {
   "cell_type": "code",
   "execution_count": 1,
   "metadata": {},
   "outputs": [
    {
     "name": "stderr",
     "output_type": "stream",
     "text": [
      "22/02/02 20:14:37 WARN Utils: Your hostname, Inspiron-5566 resolves to a loopback address: 127.0.1.1; using 192.168.43.93 instead (on interface wlp1s0)\n",
      "22/02/02 20:14:37 WARN Utils: Set SPARK_LOCAL_IP if you need to bind to another address\n",
      "22/02/02 20:14:39 WARN NativeCodeLoader: Unable to load native-hadoop library for your platform... using builtin-java classes where applicable\n",
      "Using Spark's default log4j profile: org/apache/spark/log4j-defaults.properties\n",
      "Setting default log level to \"WARN\".\n",
      "To adjust logging level use sc.setLogLevel(newLevel). For SparkR, use setLogLevel(newLevel).\n",
      "                                                                                \r"
     ]
    },
    {
     "data": {
      "text/plain": [
       "[('is', 2),\n",
       " ('an', 1),\n",
       " ('open-source', 1),\n",
       " ('framework', 1),\n",
       " ('store', 1),\n",
       " ('process', 1),\n",
       " ('in', 1),\n",
       " ('clusters', 1),\n",
       " ('of', 2),\n",
       " ('computers', 1),\n",
       " ('using', 1),\n",
       " ('simple', 1),\n",
       " ('programming', 1),\n",
       " ('models.', 1),\n",
       " ('It', 1),\n",
       " ('designed', 1),\n",
       " ('single', 1),\n",
       " ('servers', 1),\n",
       " ('offering', 1),\n",
       " ('computation', 1),\n",
       " ('storage', 1),\n",
       " ('provides', 1),\n",
       " ('quick', 1),\n",
       " ('introduction', 1),\n",
       " ('MapReduce', 1),\n",
       " ('algorithm,', 1),\n",
       " ('Distributed', 1),\n",
       " ('System.', 1),\n",
       " ('', 1),\n",
       " ('Hadoop', 2),\n",
       " ('that', 1),\n",
       " ('allows', 1),\n",
       " ('to', 4),\n",
       " ('and', 3),\n",
       " ('big', 1),\n",
       " ('data', 1),\n",
       " ('a', 2),\n",
       " ('distributed', 1),\n",
       " ('environment', 1),\n",
       " ('across', 1),\n",
       " ('scale', 1),\n",
       " ('up', 1),\n",
       " ('from', 1),\n",
       " ('thousands', 1),\n",
       " ('machines,', 1),\n",
       " ('each', 1),\n",
       " ('local', 1),\n",
       " ('This', 1),\n",
       " ('brief', 1),\n",
       " ('tutorial', 1),\n",
       " ('Big', 1),\n",
       " ('Data,', 1),\n",
       " ('File', 1)]"
      ]
     },
     "execution_count": 1,
     "metadata": {},
     "output_type": "execute_result"
    }
   ],
   "source": [
    "from pyspark import SparkContext\n",
    "sc =SparkContext.getOrCreate()\n",
    "textfile = sc.textFile(\"file:///home/hdoop/input.txt\")\n",
    "words = textfile.flatMap(lambda line: line.split(\" \"))\n",
    "wordcount = words.map(lambda word : (word,1)).reduceByKey(lambda a,b:a+b)  \n",
    "wordcount.collect()"
   ]
  }
 ],
 "metadata": {
  "interpreter": {
   "hash": "916dbcbb3f70747c44a77c7bcd40155683ae19c65e1c03b4aa3499c5328201f1"
  },
  "kernelspec": {
   "display_name": "Python 3.8.10 64-bit",
   "language": "python",
   "name": "python3"
  },
  "language_info": {
   "codemirror_mode": {
    "name": "ipython",
    "version": 3
   },
   "file_extension": ".py",
   "mimetype": "text/x-python",
   "name": "python",
   "nbconvert_exporter": "python",
   "pygments_lexer": "ipython3",
   "version": "3.8.10"
  },
  "orig_nbformat": 4
 },
 "nbformat": 4,
 "nbformat_minor": 2
}
